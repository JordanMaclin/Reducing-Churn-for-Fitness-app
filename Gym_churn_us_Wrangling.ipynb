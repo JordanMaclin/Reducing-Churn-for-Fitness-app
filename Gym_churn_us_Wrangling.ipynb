{
 "cells": [
  {
   "cell_type": "code",
   "execution_count": 8,
   "id": "0418b11a-753f-49cc-b8c0-ba2917315494",
   "metadata": {},
   "outputs": [
    {
     "name": "stdout",
     "output_type": "stream",
     "text": [
      "Original DataFrame head:\n",
      "| gender   | Near_Location   | Partner   | Promo_friends   | Phone   | Contract_period   | Group_visits   | Age   | Avg_additional_charges_total   | Month_to_end_contract   | Lifetime   | Avg_class_frequency_total   | Avg_class_frequency_current_month   | Churn   |\n",
      "|:---------|:----------------|:----------|:----------------|:--------|:------------------|:---------------|:------|:-------------------------------|:------------------------|:-----------|:----------------------------|:------------------------------------|:--------|\n",
      "| 1        | 1               | 1         | 1               | 0       | 6                 | 1              | 29    | 14.2275                        | 5                       | 3          | 0.0203979                   | 0                                   | 0       |\n",
      "| 0        | 1               | 0         | 0               | 1       | 12                | 1              | 31    | 113.203                        | 12                      | 7          | 1.92294                     | 1.91024                             | 0       |\n",
      "| 0        | 1               | 1         | 0               | 1       | 1                 | 0              | 28    | 129.448                        | 1                       | 2          | 1.8591                      | 1.7365                              | 0       |\n",
      "| 0        | 1               | 1         | 1               | 1       | 12                | 1              | 33    | 62.6699                        | 12                      | 2          | 3.20563                     | 3.35721                             | 0       |\n",
      "| 1        | 1               | 1         | 1               | 1       | 1                 | 0              | 26    | 198.362                        | 1                       | 3          | 1.11388                     | 1.12008                             | 0       |\n",
      "\n",
      "Original DataFrame info:\n",
      "<class 'pandas.core.frame.DataFrame'>\n",
      "RangeIndex: 4000 entries, 0 to 3999\n",
      "Data columns (total 14 columns):\n",
      " #   Column                             Non-Null Count  Dtype  \n",
      "---  ------                             --------------  -----  \n",
      " 0   gender                             4000 non-null   int64  \n",
      " 1   Near_Location                      4000 non-null   int64  \n",
      " 2   Partner                            4000 non-null   int64  \n",
      " 3   Promo_friends                      4000 non-null   int64  \n",
      " 4   Phone                              4000 non-null   int64  \n",
      " 5   Contract_period                    4000 non-null   int64  \n",
      " 6   Group_visits                       4000 non-null   int64  \n",
      " 7   Age                                4000 non-null   int64  \n",
      " 8   Avg_additional_charges_total       4000 non-null   float64\n",
      " 9   Month_to_end_contract              4000 non-null   float64\n",
      " 10  Lifetime                           4000 non-null   int64  \n",
      " 11  Avg_class_frequency_total          4000 non-null   float64\n",
      " 12  Avg_class_frequency_current_month  4000 non-null   float64\n",
      " 13  Churn                              4000 non-null   int64  \n",
      "dtypes: float64(4), int64(10)\n",
      "memory usage: 437.6 KB\n",
      "None\n"
     ]
    }
   ],
   "source": [
    "#importing data \n",
    "import pandas as pd\n",
    "\n",
    "# Load the dataset\n",
    "df = pd.read_csv('gym_churn_us.csv')\n",
    "\n",
    "print(\"Original DataFrame head:\")\n",
    "print(df.head().to_markdown(index=False, numalign=\"left\", stralign=\"left\"))\n",
    "\n",
    "print(\"\\nOriginal DataFrame info:\")\n",
    "print(df.info())"
   ]
  },
  {
   "cell_type": "code",
   "execution_count": 9,
   "id": "0ba4994f-cf31-4a8f-8b21-11d3b4a076e7",
   "metadata": {},
   "outputs": [
    {
     "name": "stdout",
     "output_type": "stream",
     "text": [
      "\n",
      "Missing values per column:\n",
      "|                                   | 0   |\n",
      "|:----------------------------------|:----|\n",
      "| gender                            | 0   |\n",
      "| Near_Location                     | 0   |\n",
      "| Partner                           | 0   |\n",
      "| Promo_friends                     | 0   |\n",
      "| Phone                             | 0   |\n",
      "| Contract_period                   | 0   |\n",
      "| Group_visits                      | 0   |\n",
      "| Age                               | 0   |\n",
      "| Avg_additional_charges_total      | 0   |\n",
      "| Month_to_end_contract             | 0   |\n",
      "| Lifetime                          | 0   |\n",
      "| Avg_class_frequency_total         | 0   |\n",
      "| Avg_class_frequency_current_month | 0   |\n",
      "| Churn                             | 0   |\n"
     ]
    }
   ],
   "source": [
    "# Check for missing values (if any)\n",
    "print(\"\\nMissing values per column:\")\n",
    "print(df.isnull().sum().to_markdown(numalign=\"left\", stralign=\"left\"))"
   ]
  },
  {
   "cell_type": "code",
   "execution_count": 10,
   "id": "585b949e-6753-415a-84ab-916c4bf72213",
   "metadata": {},
   "outputs": [
    {
     "name": "stdout",
     "output_type": "stream",
     "text": [
      "\n",
      "DataFrame head after boolean conversion:\n",
      "| gender   | Near_Location   | Partner   | Promo_friends   | Phone   | Contract_period   | Group_visits   | Age   | Avg_additional_charges_total   | Month_to_end_contract   | Lifetime   | Avg_class_frequency_total   | Avg_class_frequency_current_month   | Churn   |\n",
      "|:---------|:----------------|:----------|:----------------|:--------|:------------------|:---------------|:------|:-------------------------------|:------------------------|:-----------|:----------------------------|:------------------------------------|:--------|\n",
      "| True     | True            | True      | True            | False   | 6                 | True           | 29    | 14.2275                        | 5                       | 3          | 0.0203979                   | 0                                   | False   |\n",
      "| False    | True            | False     | False           | True    | 12                | True           | 31    | 113.203                        | 12                      | 7          | 1.92294                     | 1.91024                             | False   |\n",
      "| False    | True            | True      | False           | True    | 1                 | False          | 28    | 129.448                        | 1                       | 2          | 1.8591                      | 1.7365                              | False   |\n",
      "| False    | True            | True      | True            | True    | 12                | True           | 33    | 62.6699                        | 12                      | 2          | 3.20563                     | 3.35721                             | False   |\n",
      "| True     | True            | True      | True            | True    | 1                 | False          | 26    | 198.362                        | 1                       | 3          | 1.11388                     | 1.12008                             | False   |\n",
      "\n",
      "DataFrame info after boolean conversion:\n",
      "<class 'pandas.core.frame.DataFrame'>\n",
      "RangeIndex: 4000 entries, 0 to 3999\n",
      "Data columns (total 14 columns):\n",
      " #   Column                             Non-Null Count  Dtype  \n",
      "---  ------                             --------------  -----  \n",
      " 0   gender                             4000 non-null   bool   \n",
      " 1   Near_Location                      4000 non-null   bool   \n",
      " 2   Partner                            4000 non-null   bool   \n",
      " 3   Promo_friends                      4000 non-null   bool   \n",
      " 4   Phone                              4000 non-null   bool   \n",
      " 5   Contract_period                    4000 non-null   int64  \n",
      " 6   Group_visits                       4000 non-null   bool   \n",
      " 7   Age                                4000 non-null   int64  \n",
      " 8   Avg_additional_charges_total       4000 non-null   float64\n",
      " 9   Month_to_end_contract              4000 non-null   float64\n",
      " 10  Lifetime                           4000 non-null   int64  \n",
      " 11  Avg_class_frequency_total          4000 non-null   float64\n",
      " 12  Avg_class_frequency_current_month  4000 non-null   float64\n",
      " 13  Churn                              4000 non-null   bool   \n",
      "dtypes: bool(7), float64(4), int64(3)\n",
      "memory usage: 246.2 KB\n",
      "None\n"
     ]
    }
   ],
   "source": [
    "# List of columns that are binary (0 or 1) and can be converted to boolean\n",
    "boolean_columns = [\n",
    "    'gender',\n",
    "    'Near_Location',\n",
    "    'Partner',\n",
    "    'Promo_friends',\n",
    "    'Phone',\n",
    "    'Group_visits',\n",
    "    'Churn'\n",
    "]\n",
    "\n",
    "# Convert identified columns to boolean type\n",
    "for col in boolean_columns:\n",
    "    df[col] = df[col].astype(bool)\n",
    "\n",
    "print(\"\\nDataFrame head after boolean conversion:\")\n",
    "print(df.head().to_markdown(index=False, numalign=\"left\", stralign=\"left\"))\n",
    "\n",
    "print(\"\\nDataFrame info after boolean conversion:\")\n",
    "print(df.info())"
   ]
  },
  {
   "cell_type": "code",
   "execution_count": 11,
   "id": "644be6f8-49c3-4465-8aac-c5dcf2c8a288",
   "metadata": {},
   "outputs": [
    {
     "name": "stdout",
     "output_type": "stream",
     "text": [
      "   gender  Near_Location  Partner  Promo_friends  Phone  Contract_period  \\\n",
      "0    True           True     True           True  False                6   \n",
      "1   False           True    False          False   True               12   \n",
      "2   False           True     True          False   True                1   \n",
      "3   False           True     True           True   True               12   \n",
      "4    True           True     True           True   True                1   \n",
      "\n",
      "   Group_visits  Age  Avg_additional_charges_total  Month_to_end_contract  \\\n",
      "0          True   29                     14.227470                    5.0   \n",
      "1          True   31                    113.202938                   12.0   \n",
      "2         False   28                    129.448479                    1.0   \n",
      "3          True   33                     62.669863                   12.0   \n",
      "4         False   26                    198.362265                    1.0   \n",
      "\n",
      "   Lifetime  Avg_class_frequency_total  Avg_class_frequency_current_month  \\\n",
      "0         3                   0.020398                           0.000000   \n",
      "1         7                   1.922936                           1.910244   \n",
      "2         2                   1.859098                           1.736502   \n",
      "3         2                   3.205633                           3.357215   \n",
      "4         3                   1.113884                           1.120078   \n",
      "\n",
      "   Churn  \n",
      "0  False  \n",
      "1  False  \n",
      "2  False  \n",
      "3  False  \n",
      "4  False  \n"
     ]
    }
   ],
   "source": [
    "print(df.head(5))"
   ]
  },
  {
   "cell_type": "code",
   "execution_count": 15,
   "id": "534cf3b6-e540-4943-a2ce-1eca530ffd8b",
   "metadata": {},
   "outputs": [
    {
     "name": "stdout",
     "output_type": "stream",
     "text": [
      "\n",
      "First 5 rows of X after one-hot encoding of Contract_period and Month_to_end_contract:\n",
      "|    | Contract_period_1   | Contract_period_6   | Contract_period_12   | Month_to_end_contract_1.0   | Month_to_end_contract_2.0   | Month_to_end_contract_3.0   | Month_to_end_contract_4.0   | Month_to_end_contract_5.0   | Month_to_end_contract_6.0   | Month_to_end_contract_7.0   | Month_to_end_contract_8.0   | Month_to_end_contract_9.0   | Month_to_end_contract_10.0   | Month_to_end_contract_11.0   | Month_to_end_contract_12.0   | gender   | Near_Location   | Partner   | Promo_friends   | Phone   | Group_visits   | Age   | Avg_additional_charges_total   | Lifetime   | Avg_class_frequency_total   | Avg_class_frequency_current_month   |\n",
      "|:---|:--------------------|:--------------------|:---------------------|:----------------------------|:----------------------------|:----------------------------|:----------------------------|:----------------------------|:----------------------------|:----------------------------|:----------------------------|:----------------------------|:-----------------------------|:-----------------------------|:-----------------------------|:---------|:----------------|:----------|:----------------|:--------|:---------------|:------|:-------------------------------|:-----------|:----------------------------|:------------------------------------|\n",
      "| 0  | 0                   | 1                   | 0                    | 0                           | 0                           | 0                           | 0                           | 1                           | 0                           | 0                           | 0                           | 0                           | 0                            | 0                            | 0                            | True     | True            | True      | True            | False   | True           | 29    | 14.2275                        | 3          | 0.0203979                   | 0                                   |\n",
      "| 1  | 0                   | 0                   | 1                    | 0                           | 0                           | 0                           | 0                           | 0                           | 0                           | 0                           | 0                           | 0                           | 0                            | 0                            | 1                            | False    | True            | False     | False           | True    | True           | 31    | 113.203                        | 7          | 1.92294                     | 1.91024                             |\n",
      "| 2  | 1                   | 0                   | 0                    | 1                           | 0                           | 0                           | 0                           | 0                           | 0                           | 0                           | 0                           | 0                           | 0                            | 0                            | 0                            | False    | True            | True      | False           | True    | False          | 28    | 129.448                        | 2          | 1.8591                      | 1.7365                              |\n",
      "| 3  | 0                   | 0                   | 1                    | 0                           | 0                           | 0                           | 0                           | 0                           | 0                           | 0                           | 0                           | 0                           | 0                            | 0                            | 1                            | False    | True            | True      | True            | True    | True           | 33    | 62.6699                        | 2          | 3.20563                     | 3.35721                             |\n",
      "| 4  | 1                   | 0                   | 0                    | 1                           | 0                           | 0                           | 0                           | 0                           | 0                           | 0                           | 0                           | 0                           | 0                            | 0                            | 0                            | True     | True            | True      | True            | True    | False          | 26    | 198.362                        | 3          | 1.11388                     | 1.12008                             |\n"
     ]
    }
   ],
   "source": [
    "from sklearn.preprocessing import OneHotEncoder\n",
    "from sklearn.compose import ColumnTransformer\n",
    "\n",
    "# Define features (X) and target (y)\n",
    "X = df.drop('Churn', axis=1)\n",
    "y = df['Churn']\n",
    "\n",
    "# Identify features to be one-hot encoded\n",
    "categorical_features_to_encode = ['Contract_period', 'Month_to_end_contract']\n",
    "\n",
    "# Create a ColumnTransformer to apply OneHotEncoder\n",
    "# 'remainder=\"passthrough\"' keeps other columns (numerical and already-boolean) as they are\n",
    "preprocessor_encoding = ColumnTransformer(\n",
    "    transformers=[\n",
    "        ('cat', OneHotEncoder(handle_unknown='ignore'), categorical_features_to_encode)\n",
    "    ],\n",
    "    remainder='passthrough'\n",
    ")\n",
    "\n",
    "# Apply the encoding\n",
    "X_encoded = preprocessor_encoding.fit_transform(X)\n",
    "\n",
    "# Get feature names after one-hot encoding for clarity\n",
    "ohe_feature_names = preprocessor_encoding.named_transformers_['cat'].get_feature_names_out(categorical_features_to_encode)\n",
    "remaining_features = [col for col in X.columns if col not in categorical_features_to_encode]\n",
    "all_feature_names_after_encoding = list(ohe_feature_names) + remaining_features\n",
    "\n",
    "# Convert the processed array back to a DataFrame for better readability\n",
    "X_encoded_df = pd.DataFrame(X_encoded, columns=all_feature_names_after_encoding, index=X.index)\n",
    "\n",
    "print(\"\\nFirst 5 rows of X after one-hot encoding of Contract_period and Month_to_end_contract:\")\n",
    "print(X_encoded_df.head().to_markdown(numalign=\"left\", stralign=\"left\"))"
   ]
  },
  {
   "cell_type": "code",
   "execution_count": 16,
   "id": "51004f39-48f1-4d0f-bef8-bb9a8ae80165",
   "metadata": {},
   "outputs": [
    {
     "name": "stdout",
     "output_type": "stream",
     "text": [
      "\n",
      "Shape of training features (X_train): (3200, 26)\n",
      "Shape of testing features (X_test): (800, 26)\n",
      "Shape of training target (y_train): (3200,)\n",
      "Shape of testing target (y_test): (800,)\n"
     ]
    }
   ],
   "source": [
    "from sklearn.model_selection import train_test_split\n",
    "\n",
    "# Split the data into training and test sets (80% train, 20% test)\n",
    "# 'stratify=y' ensures that the proportion of churned/non-churned customers is maintained in both sets\n",
    "X_train, X_test, y_train, y_test = train_test_split(X_encoded_df, y, test_size=0.2, random_state=42, stratify=y)\n",
    "\n",
    "print(f\"\\nShape of training features (X_train): {X_train.shape}\")\n",
    "print(f\"Shape of testing features (X_test): {X_test.shape}\")\n",
    "print(f\"Shape of training target (y_train): {y_train.shape}\")\n",
    "print(f\"Shape of testing target (y_test): {y_test.shape}\")"
   ]
  },
  {
   "cell_type": "code",
   "execution_count": 17,
   "id": "b95fd86b-8cff-4e0c-9fcb-13d94c25a451",
   "metadata": {},
   "outputs": [
    {
     "name": "stdout",
     "output_type": "stream",
     "text": [
      "\n",
      "First 5 rows of X_train after scaling (numerical columns only):\n",
      "|      | Contract_period_1   | Contract_period_6   | Contract_period_12   | Month_to_end_contract_1.0   | Month_to_end_contract_2.0   | Month_to_end_contract_3.0   | Month_to_end_contract_4.0   | Month_to_end_contract_5.0   | Month_to_end_contract_6.0   | Month_to_end_contract_7.0   | Month_to_end_contract_8.0   | Month_to_end_contract_9.0   | Month_to_end_contract_10.0   | Month_to_end_contract_11.0   | Month_to_end_contract_12.0   | gender   | Near_Location   | Partner   | Promo_friends   | Phone    | Group_visits   | Age       | Avg_additional_charges_total   | Lifetime   | Avg_class_frequency_total   | Avg_class_frequency_current_month   |\n",
      "|:-----|:--------------------|:--------------------|:---------------------|:----------------------------|:----------------------------|:----------------------------|:----------------------------|:----------------------------|:----------------------------|:----------------------------|:----------------------------|:----------------------------|:-----------------------------|:-----------------------------|:-----------------------------|:---------|:----------------|:----------|:----------------|:---------|:---------------|:----------|:-------------------------------|:-----------|:----------------------------|:------------------------------------|\n",
      "| 153  | 1                   | 0                   | 0                    | 1                           | 0                           | 0                           | 0                           | 0                           | 0                           | 0                           | 0                           | 0                           | 0                            | 0                            | 0                            | 0.981423 | 0.432879        | -0.964384 | -0.663922       | 0.331594 | -0.835232      | 0.552644  | 1.91081                        | -0.731728  | 0.797486                    | 0.890416                            |\n",
      "| 1248 | 0                   | 1                   | 0                    | 0                           | 0                           | 0                           | 0                           | 0                           | 1                           | 0                           | 0                           | 0                           | 0                            | 0                            | 0                            | -1.01893 | 0.432879        | 1.03693   | 1.5062          | 0.331594 | 1.19727        | -0.974525 | -1.28209                       | 0.06228    | 0.289321                    | 0.3742                              |\n",
      "| 2759 | 0                   | 1                   | 0                    | 0                           | 0                           | 0                           | 0                           | 0                           | 1                           | 0                           | 0                           | 0                           | 0                            | 0                            | 0                            | -1.01893 | 0.432879        | -0.964384 | -0.663922       | 0.331594 | 1.19727        | 0.552644  | 0.257674                       | -0.731728  | 0.795043                    | 0.767007                            |\n",
      "| 3529 | 0                   | 0                   | 1                    | 0                           | 0                           | 0                           | 0                           | 1                           | 0                           | 0                           | 0                           | 0                           | 0                            | 0                            | 0                            | -1.01893 | 0.432879        | 1.03693   | 1.5062          | 0.331594 | 1.19727        | -0.363657 | -0.574216                      | 0.856287   | -0.331981                   | -0.150179                           |\n",
      "| 2119 | 1                   | 0                   | 0                    | 1                           | 0                           | 0                           | 0                           | 0                           | 0                           | 0                           | 0                           | 0                           | 0                            | 0                            | 0                            | -1.01893 | 0.432879        | -0.964384 | -0.663922       | 0.331594 | -0.835232      | -0.974525 | -0.917808                      | -0.996397  | -1.93412                    | -1.29397                            |\n",
      "\n",
      "Descriptive statistics of X_train after scaling (numerical columns only):\n",
      "|       | gender       | Near_Location   | Partner      | Promo_friends   | Phone       | Group_visits   | Age          | Avg_additional_charges_total   | Lifetime    | Avg_class_frequency_total   | Avg_class_frequency_current_month   |\n",
      "|:------|:-------------|:----------------|:-------------|:----------------|:------------|:---------------|:-------------|:-------------------------------|:------------|:----------------------------|:------------------------------------|\n",
      "| count | 3200         | 3200            | 3200         | 3200            | 3200        | 3200           | 3200         | 3200                           | 3200        | 3200                        | 3200                                |\n",
      "| mean  | -5.82867e-17 | 3.9968e-17      | -4.21885e-17 | 8.54872e-17     | 1.70974e-16 | 5.7454e-17     | -2.22045e-16 | 1.28453e-15                    | 1.77636e-17 | 2.94875e-15                 | 1.76303e-15                         |\n",
      "| std   | 1.00016      | 1.00016         | 1.00016      | 1.00016         | 1.00016     | 1.00016        | 1.00016      | 1.00016                        | 1.00016     | 1.00016                     | 1.00016                             |\n",
      "| min   | -1.01893     | -2.31012        | -0.964384    | -0.663922       | -3.01573    | -0.835232      | -3.41799     | -1.52286                       | -0.996397   | -1.93412                    | -1.67768                            |\n",
      "| 25%   | -1.01893     | 0.432879        | -0.964384    | -0.663922       | 0.331594    | -0.835232      | -0.669091    | -0.811116                      | -0.731728   | -0.720492                   | -0.774163                           |\n",
      "| 50%   | 0.981423     | 0.432879        | -0.964384    | -0.663922       | 0.331594    | -0.835232      | -0.0582233   | -0.110758                      | -0.202389   | -0.0475533                  | -0.0353551                          |\n",
      "| 75%   | 0.981423     | 0.432879        | 1.03693      | 1.5062          | 0.331594    | 1.19727        | 0.552644     | 0.670236                       | 0.326949    | 0.675649                    | 0.712694                            |\n",
      "| max   | 0.981423     | 0.432879        | 1.03693      | 1.5062          | 0.331594    | 1.19727        | 3.60698      | 4.23601                        | 6.67901     | 4.25819                     | 4.15252                             |\n"
     ]
    }
   ],
   "source": [
    "from sklearn.preprocessing import StandardScaler\n",
    "\n",
    "# Identify numerical features that need scaling (excluding the one-hot encoded and boolean columns)\n",
    "# This assumes the order of columns after ColumnTransformer: one-hot encoded first, then original numerical/boolean\n",
    "numerical_features_after_encoding = [col for col in all_feature_names_after_encoding if col not in ohe_feature_names]\n",
    "\n",
    "# Initialize the StandardScaler\n",
    "scaler = StandardScaler()\n",
    "\n",
    "# Fit the scaler ONLY on the training data and transform both training and test sets\n",
    "# Ensure to select only the numerical columns for scaling\n",
    "X_train[numerical_features_after_encoding] = scaler.fit_transform(X_train[numerical_features_after_encoding])\n",
    "X_test[numerical_features_after_encoding] = scaler.transform(X_test[numerical_features_after_encoding])\n",
    "\n",
    "print(\"\\nFirst 5 rows of X_train after scaling (numerical columns only):\")\n",
    "print(X_train.head().to_markdown(numalign=\"left\", stralign=\"left\"))\n",
    "\n",
    "print(\"\\nDescriptive statistics of X_train after scaling (numerical columns only):\")\n",
    "print(X_train[numerical_features_after_encoding].describe().to_markdown(numalign=\"left\", stralign=\"left\"))"
   ]
  },
  {
   "cell_type": "code",
   "execution_count": 19,
   "id": "36c3a59c-5f5b-428f-991c-d27ac53bd234",
   "metadata": {},
   "outputs": [],
   "source": [
    "#These comprehensive data wrangling steps ensure that your data is well-prepared and optimized for training a machine learning model to predict churn."
   ]
  },
  {
   "cell_type": "code",
   "execution_count": null,
   "id": "d7d45a07-ff9a-4c60-9fd3-538f04c72067",
   "metadata": {},
   "outputs": [],
   "source": []
  }
 ],
 "metadata": {
  "kernelspec": {
   "display_name": "anaconda-ai-2024.04-py310",
   "language": "python",
   "name": "conda-env-anaconda-ai-2024.04-py310-py"
  },
  "language_info": {
   "codemirror_mode": {
    "name": "ipython",
    "version": 3
   },
   "file_extension": ".py",
   "mimetype": "text/x-python",
   "name": "python",
   "nbconvert_exporter": "python",
   "pygments_lexer": "ipython3",
   "version": "3.10.13"
  }
 },
 "nbformat": 4,
 "nbformat_minor": 5
}
